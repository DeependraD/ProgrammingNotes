{
 "cells": [
  {
   "cell_type": "markdown",
   "metadata": {},
   "source": [
    "## Brute force sudoku solver"
   ]
  },
  {
   "cell_type": "markdown",
   "metadata": {},
   "source": [
    "### Board representation\n",
    "\n",
    "The board itself will be represented as an array of strings. We need to pre-populate the board with some values and then use program to solve the other missing part.\n",
    "\n",
    "The dots will represent the empty squares, where we will look for the solution."
   ]
  },
  {
   "cell_type": "code",
   "execution_count": 82,
   "metadata": {
    "collapsed": true
   },
   "outputs": [],
   "source": [
    "import matplotlib.pyplot as plt\n",
    "import numpy as np\n",
    "import pandas as pd\n",
    "import copy"
   ]
  },
  {
   "cell_type": "code",
   "execution_count": 56,
   "metadata": {
    "collapsed": true
   },
   "outputs": [],
   "source": [
    "board = [\"6..874.1.\", \"..9.36...\", \"...19.8..\", \n",
    "        \"7946.....\", \"..1.894..\", \"...41..69\", \n",
    "        \".7..5..9.\", \".539.76..\", \"9.2.61.47\"]"
   ]
  },
  {
   "cell_type": "code",
   "execution_count": 57,
   "metadata": {},
   "outputs": [
    {
     "name": "stdout",
     "output_type": "stream",
     "text": [
      "9\n",
      "[9, 9, 9, 9, 9, 9, 9, 9, 9]\n"
     ]
    }
   ],
   "source": [
    "print(len(board))\n",
    "print([len(row) for row in board])"
   ]
  },
  {
   "cell_type": "markdown",
   "metadata": {},
   "source": [
    "### Obvious way to approach to problem"
   ]
  },
  {
   "cell_type": "markdown",
   "metadata": {},
   "source": [
    "First pick a square, and look for all surrounding cells, if all numbers except for one is precluded, select the number. For this step, we must check the row, column and square."
   ]
  },
  {
   "cell_type": "code",
   "execution_count": 62,
   "metadata": {},
   "outputs": [
    {
     "data": {
      "text/plain": [
       "[['6', '.', '.', '8', '7', '4', '.', '1', '.'],\n",
       " ['.', '.', '9', '.', '3', '6', '.', '.', '.'],\n",
       " ['.', '.', '.', '1', '9', '.', '8', '.', '.'],\n",
       " ['7', '9', '4', '6', '.', '.', '.', '.', '.'],\n",
       " ['.', '.', '1', '.', '8', '9', '4', '.', '.'],\n",
       " ['.', '.', '.', '4', '1', '.', '.', '6', '9'],\n",
       " ['.', '7', '.', '.', '5', '.', '.', '9', '.'],\n",
       " ['.', '5', '3', '9', '.', '7', '6', '.', '.'],\n",
       " ['9', '.', '2', '.', '6', '1', '.', '4', '7']]"
      ]
     },
     "execution_count": 62,
     "metadata": {},
     "output_type": "execute_result"
    }
   ],
   "source": [
    "# board\n",
    "# [row for row in board]\n",
    "[[str(n) for n in row] for row in board]"
   ]
  },
  {
   "cell_type": "markdown",
   "metadata": {},
   "source": [
    "### Template code\n",
    "\n",
    "```\n",
    "proc Solve:\n",
    "\n",
    "    fill in all \"obvious\" cells untill we run out\n",
    "    if the puzzle is solved, return true\n",
    "    if we encounter a contradiction, return false\n",
    "\n",
    "    (If you're here, you need to start guessing)\n",
    "    Find the first empty cell\n",
    "    possibilities <- get all possibilities at empty cell\n",
    "    for each possibility in possibilities:\n",
    "        fill in the possibility at the cell\n",
    "        recursively run Solve()\n",
    "        if it returns true, return true\n",
    "        if it returns false, undo all changes made\n",
    "    return false\n",
    "```"
   ]
  },
  {
   "cell_type": "code",
   "execution_count": 87,
   "metadata": {},
   "outputs": [
    {
     "name": "stdout",
     "output_type": "stream",
     "text": [
      "372984615\n",
      "984615372\n",
      "615372984\n",
      "458193726\n",
      "193726458\n",
      "726458193\n",
      "541839267\n",
      "839267541\n",
      "267541839\n"
     ]
    }
   ],
   "source": [
    "def main():\n",
    "    global board\n",
    "    for idx, line in enumerate(board):\n",
    "        board[idx] = list(line)\n",
    "        \n",
    "    solve()\n",
    "    printBoard()\n",
    "    \n",
    "def solve():\n",
    "    global board\n",
    "    \n",
    "    try:\n",
    "        fillAllObvious()\n",
    "    except:\n",
    "        return False\n",
    "    if isComplete():\n",
    "        return True\n",
    "    \n",
    "    i, j = 0, 0\n",
    "    for rowIdx, row in enumerate(board):\n",
    "        for colIdx, col in enumerate(row):\n",
    "            if col == \".\":\n",
    "                i, j = rowIdx, colIdx\n",
    "                \n",
    "    possibilities = getPossibilities(i, j)\n",
    "    for value in possibilities:\n",
    "        snapshot = copy.deepcopy(board)\n",
    "        \n",
    "        board[i][j] = value\n",
    "        result = solve()\n",
    "        if result == True:\n",
    "            return True\n",
    "        else: \n",
    "            board = copy.deepcopy(snapshot)\n",
    "            \n",
    "    return False\n",
    "    \n",
    "def fillAllObvious():\n",
    "    global board\n",
    "    while True:\n",
    "        somethingChanged = False\n",
    "        for i in range(0, 9): \n",
    "            for j in range(0, 9):\n",
    "                possibilities = getPossibilities(i, j)\n",
    "                if possibilities == False:\n",
    "                    continue\n",
    "                if len(possibilities) == 0:\n",
    "                    raise RuntimeError(\"No moves left\")\n",
    "                if len(possibilities) == 1:\n",
    "                    board[i][j] = possibilities[0]\n",
    "                    somethingChanged = True\n",
    "        \n",
    "        if somethingChanged == False:\n",
    "            return \n",
    "\n",
    "def getPossibilities(i, j):\n",
    "    global board\n",
    "    if board[i][j] != \".\":\n",
    "        return False\n",
    "    \n",
    "    possibilities = {str(n) for n in range(1, 10)} # set comprehension\n",
    "    \n",
    "    for val in board[i]:\n",
    "        possibilities -= set(val)\n",
    "    for idx in range(0, 9):\n",
    "        possibilities -= set(board[idx][j])\n",
    "        \n",
    "    iStart = (i // 3) * 3\n",
    "    jStart = (j // 3) * 3\n",
    "    \n",
    "    subboard = board[iStart:iStart+3]\n",
    "    for idx, row in enumerate(subboard):\n",
    "        subboard[idx] = row[jStart:jStart+3]\n",
    "        \n",
    "    for row in subboard:\n",
    "        for col in row:\n",
    "            possibilities -= set(col)\n",
    "    return list(possibilities)\n",
    "\n",
    "def printBoard():\n",
    "    global board\n",
    "    for row in board:\n",
    "        for col in row:\n",
    "            print(col, end=\"\")\n",
    "        print(\"\")\n",
    "        \n",
    "def isComplete():\n",
    "    for row in board:\n",
    "        for col in row:\n",
    "            if (col == \".\"):\n",
    "                return False\n",
    "            \n",
    "    return True\n",
    "    \n",
    "main()"
   ]
  },
  {
   "cell_type": "code",
   "execution_count": 144,
   "metadata": {},
   "outputs": [],
   "source": [
    "board = [list(\".\"*9)]*9"
   ]
  },
  {
   "cell_type": "code",
   "execution_count": 152,
   "metadata": {},
   "outputs": [],
   "source": [
    "board[1] = [str(item) for item in [1, 2, 3, 4, 8, 9, 7, 6, 5]]"
   ]
  },
  {
   "cell_type": "code",
   "execution_count": 153,
   "metadata": {},
   "outputs": [
    {
     "data": {
      "text/plain": [
       "[['.', '.', '.', '.', '.', '.', '.', '.', '.'],\n",
       " ['1', '2', '3', '4', '8', '9', '7', '6', '5'],\n",
       " ['.', '.', '.', '.', '.', '.', '.', '.', '.'],\n",
       " ['.', '.', '.', '.', '.', '.', '.', '.', '.'],\n",
       " ['.', '.', '.', '.', '.', '.', '.', '.', '.'],\n",
       " ['.', '.', '.', '.', '.', '.', '.', '.', '.'],\n",
       " ['.', '.', '.', '.', '.', '.', '.', '.', '.'],\n",
       " ['.', '.', '.', '.', '.', '.', '.', '.', '.'],\n",
       " ['.', '.', '.', '.', '.', '.', '.', '.', '.']]"
      ]
     },
     "execution_count": 153,
     "metadata": {},
     "output_type": "execute_result"
    }
   ],
   "source": [
    "board"
   ]
  },
  {
   "cell_type": "code",
   "execution_count": 155,
   "metadata": {
    "scrolled": true
   },
   "outputs": [
    {
     "name": "stdout",
     "output_type": "stream",
     "text": [
      "954716382\n",
      "123489765\n",
      "786325914\n",
      "398174256\n",
      "615932478\n",
      "472658193\n",
      "541893627\n",
      "839267541\n",
      "267541839\n"
     ]
    }
   ],
   "source": [
    "main()"
   ]
  },
  {
   "cell_type": "code",
   "execution_count": null,
   "metadata": {
    "collapsed": true
   },
   "outputs": [],
   "source": [
    " "
   ]
  }
 ],
 "metadata": {
  "kernelspec": {
   "display_name": "Python [conda root]",
   "language": "python",
   "name": "conda-root-py"
  },
  "language_info": {
   "codemirror_mode": {
    "name": "ipython",
    "version": 3
   },
   "file_extension": ".py",
   "mimetype": "text/x-python",
   "name": "python",
   "nbconvert_exporter": "python",
   "pygments_lexer": "ipython3",
   "version": "3.5.4"
  }
 },
 "nbformat": 4,
 "nbformat_minor": 2
}
