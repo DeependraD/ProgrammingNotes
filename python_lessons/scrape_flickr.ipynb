{
 "cells": [
  {
   "cell_type": "markdown",
   "metadata": {},
   "source": [
    "## Flickr scraper for photos"
   ]
  },
  {
   "cell_type": "code",
   "execution_count": 5,
   "metadata": {
    "collapsed": true
   },
   "outputs": [],
   "source": [
    "from bs4 import BeautifulSoup\n",
    "import requests\n",
    "import urllib.request"
   ]
  },
  {
   "cell_type": "code",
   "execution_count": 47,
   "metadata": {},
   "outputs": [],
   "source": [
    "sauce = urllib.request.urlopen(\n",
    "    'https://www.flickr.com/photos/33037982@N04/16344297138/in/album-72157626553055597/'\n",
    ").read()\n",
    "soup = BeautifulSoup(sauce, 'lxml')"
   ]
  },
  {
   "cell_type": "code",
   "execution_count": 48,
   "metadata": {},
   "outputs": [
    {
     "name": "stdout",
     "output_type": "stream",
     "text": [
      "From Wikipedia -\n",
      "The Citron is a large fragrant citrus fruit with a thick rind, botanically classified as Citrus medica by both the Swingle and Tanaka botanical name systems. It is one of the four original citrus fruits (the others being Pummelo, Mandarine and Papeda), from which most other citrus types developed through natural hybrid speciation or artificial hybridization.\n",
      "A source of confusion is that citron or similar words in French, Hungarian, Finnish, Latvian, the West Slavic languages, and all Germanic languages but English are false friend, as they refer to the lemon. Indeed, into the 16th century, the English name citron included the lemon and perhaps the lime as well.\n",
      "Despite the variation among the cultivars, authorities agree the citron is an old and original species. There is molecular evidence that all other cultivated citrus species arose by hybridization among four ancestral types, which are the citron, pomelo, mandarin and some papedas. The citron is believed to be the purest of them all, since it is usually fertilized by self-pollination, and is therefore generally considered to be a male parent of any citrus hybrid rather than a female one.[15]\n",
      "Today, authorities agree that all citrus species are native to Southeast Asia where they are found wild and in an uncultivated form. The story of how they spread to the Mediterranean has been reported by Francesco Calabrese, Henri Chapot, Samuel Tolkowsky, Elizabetta Nicolisi, and others.\n",
      "The citron could also be native to India where it borders on Burma, in valleys at the foot of the Himalayas, and in the Indian Western Ghats. It is thought that by the time of Theophrastus, the citron was mostly cultivated in the Persian Gulf on its way to the Mediterranean basin, where it was cultivated during the later centuries in different areas as described by Erich Isaac. Many mention the role of Alexander the Great and his armies as they attacked Persia and what is today Pakistan, as being responsible for the spread of the citron westward, reaching the European countries such as Macedonia and Italy.\n",
      "While the lemon or orange are peeled to consume their pulpy and juicy segments, the citron's pulp is dry, containing a small quantity of insipid juice, if any. The main content of a citron fruit is the thick white rind, which adheres to the segments and cannot be separated from them easily. The citron gets halved and depulped, then its rind is cooked in sugar, diced, and used as a confection.\n",
      "Today the citron is used for the fragrance or zest of its flavedo, but the most important part is still the inner rind (known as pith or albedo), which is a fairly important article in international trade and is widely employed in the food industry as succade, as it is known when it is candied in sugar.\n",
      "In Iran, the citron's thick white rind is used to make jam; in Pakistan the fruit is used to make jam but is also pickled; in South Indian cuisine, the citron is widely used in pickles and preserves. In Korea, citron (called yujacha) is used to make tea, which supposedly helps to suppress coughing, relieve hangovers, and is effective in curing indigestion.\n"
     ]
    }
   ],
   "source": [
    "for paragraph in soup.find_all('p'):\n",
    "    print(paragraph.text)"
   ]
  },
  {
   "cell_type": "code",
   "execution_count": 34,
   "metadata": {},
   "outputs": [
    {
     "data": {
      "text/plain": [
       "['/',\n",
       " '/explore',\n",
       " '/explore',\n",
       " '/photos/tags',\n",
       " '/vr',\n",
       " '/commons',\n",
       " '/galleries',\n",
       " '/map',\n",
       " '/cameras',\n",
       " '/photos/flickr/albums/72157639868074114/',\n",
       " 'https://blog.flickr.net/',\n",
       " '/create',\n",
       " '/upload',\n",
       " '/signin',\n",
       " '/signup',\n",
       " '/explore',\n",
       " '/explore',\n",
       " '/photos/tags',\n",
       " '/commons',\n",
       " '/galleries',\n",
       " '/photos/flickr/albums/72157639868074114/',\n",
       " 'https://blog.flickr.net/',\n",
       " '/photos/33037982@N04/albums/with/72157626553055597',\n",
       " '#',\n",
       " '/photos/33037982@N04/',\n",
       " '/photos/33037982@N04/',\n",
       " '/account/upgrade/pro',\n",
       " '/about',\n",
       " '/jobs',\n",
       " '//blog.flickr.net/en',\n",
       " '//mobile.yahoo.com/flickr',\n",
       " '/services/developer',\n",
       " '/help/guidelines',\n",
       " '//yahoo.uservoice.com/forums/211185-us-flickr',\n",
       " '/abuse',\n",
       " '/help/forum',\n",
       " '/change_language.gne?lang=en-US&csrf=',\n",
       " '//policies.yahoo.com/privacy/flickr',\n",
       " '/help/terms',\n",
       " '//safely.yahoo.com',\n",
       " '//help.yahoo.com/kb/index?page=product&locale=en_US&y=PROD_FLICKR_DESK&actp=productlink',\n",
       " 'http://flickr.tumblr.com/',\n",
       " 'https://www.facebook.com/flickr',\n",
       " 'https://twitter.com/flickr']"
      ]
     },
     "execution_count": 34,
     "metadata": {},
     "output_type": "execute_result"
    }
   ],
   "source": [
    "[url.get('href') for url in soup.find_all('a')]"
   ]
  },
  {
   "cell_type": "code",
   "execution_count": 61,
   "metadata": {},
   "outputs": [
    {
     "data": {
      "text/plain": [
       "[]"
      ]
     },
     "execution_count": 61,
     "metadata": {},
     "output_type": "execute_result"
    }
   ],
   "source": [
    "[div for div in soup.find_all('div', class_ = \"\")]"
   ]
  },
  {
   "cell_type": "code",
   "execution_count": 51,
   "metadata": {},
   "outputs": [
    {
     "data": {
      "text/plain": [
       "[<img alt=\"Citrus medica (Citron) | by wallygrom\" class=\"low-res-photo\" height=\"500\" src=\"//c1.staticflickr.com/9/8571/16344297138_520749dba6_n.jpg\" width=\"375\"/>,\n",
       " <img alt=\"Citrus medica (Citron) | by wallygrom\" class=\"main-photo is-hidden\" height=\"500\" src=\"//c1.staticflickr.com/9/8571/16344297138_520749dba6.jpg\" width=\"375\"/>,\n",
       " <img alt=\"Citrus medica (Citron) | by wallygrom\" class=\"main-photo\" height=\"500\" src=\"//c1.staticflickr.com/9/8571/16344297138_520749dba6.jpg\" width=\"375\"/>,\n",
       " <img height=\"1\" src=\"https://geo.yahoo.com/b?s=792600543\" style=\"position: absolute;\" width=\"1\"/>]"
      ]
     },
     "execution_count": 51,
     "metadata": {},
     "output_type": "execute_result"
    }
   ],
   "source": [
    "[img for img in soup.find_all('img')]"
   ]
  }
 ],
 "metadata": {
  "kernelspec": {
   "display_name": "Python [conda root]",
   "language": "python",
   "name": "conda-root-py"
  },
  "language_info": {
   "codemirror_mode": {
    "name": "ipython",
    "version": 3
   },
   "file_extension": ".py",
   "mimetype": "text/x-python",
   "name": "python",
   "nbconvert_exporter": "python",
   "pygments_lexer": "ipython3",
   "version": "3.5.4"
  }
 },
 "nbformat": 4,
 "nbformat_minor": 2
}
